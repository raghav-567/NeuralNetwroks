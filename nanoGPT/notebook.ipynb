{
 "cells": [
  {
   "cell_type": "code",
   "execution_count": 52,
   "id": "29eabc53",
   "metadata": {},
   "outputs": [],
   "source": [
    "import torch\n",
    "import matplotlib\n",
    "import torch.nn as nn\n",
    "import torch.nn.functional as F"
   ]
  },
  {
   "cell_type": "code",
   "execution_count": null,
   "id": "ebc0addf",
   "metadata": {},
   "outputs": [],
   "source": [
    "# importing and saving the raw data \n",
    "import requests\n",
    "\n",
    "url = \"https://raw.githubusercontent.com/karpathy/char-rnn/master/data/tinyshakespeare/input.txt\"\n",
    "response = requests.get(url)\n",
    "\n",
    "\n",
    "with open(\"input.txt\", \"w\", encoding=\"utf-8\") as f:\n",
    "    f.write(response.text)"
   ]
  },
  {
   "cell_type": "code",
   "execution_count": 82,
   "id": "71c05297",
   "metadata": {},
   "outputs": [
    {
     "name": "stdout",
     "output_type": "stream",
     "text": [
      "First Citizen:\n",
      "Before we proceed any further, hear me speak.\n",
      "\n",
      "All:\n",
      "Speak, speak.\n",
      "\n",
      "First Citizen:\n",
      "You\n"
     ]
    }
   ],
   "source": [
    "with open(\"input.txt\", \"r\", encoding=\"utf-8\") as f:\n",
    "    text = f.read()\n",
    "\n",
    "print(text[:100])"
   ]
  },
  {
   "cell_type": "code",
   "execution_count": 19,
   "id": "385d491c",
   "metadata": {},
   "outputs": [
    {
     "name": "stdout",
     "output_type": "stream",
     "text": [
      "65\n",
      "\n",
      " !$&',-.3:;?ABCDEFGHIJKLMNOPQRSTUVWXYZabcdefghijklmnopqrstuvwxyz\n"
     ]
    }
   ],
   "source": [
    "chars = sorted(list(set(text)))\n",
    "vocab_size = len(chars)\n",
    "print(vocab_size)\n",
    "print(''.join(chars))"
   ]
  },
  {
   "cell_type": "code",
   "execution_count": 21,
   "id": "667c1206",
   "metadata": {},
   "outputs": [],
   "source": [
    "#encoding and decoding\n",
    "stoi = {ch:i for i,ch in enumerate(chars)}\n",
    "itos = {i:ch for i,ch in enumerate(chars)}\n",
    "encode = lambda s : [stoi[i] for i in s]\n",
    "decode = lambda l : [''.join(itos[i] for i in l)]\n"
   ]
  },
  {
   "cell_type": "code",
   "execution_count": 23,
   "id": "e5d9dc53",
   "metadata": {},
   "outputs": [
    {
     "name": "stdout",
     "output_type": "stream",
     "text": [
      "[20, 43, 50, 50, 53, 1, 61, 53, 56, 50, 42] ['Hello world']\n"
     ]
    }
   ],
   "source": [
    "a = encode('Hello world')\n",
    "b = decode(a)\n",
    "print(a,b)"
   ]
  },
  {
   "cell_type": "code",
   "execution_count": 30,
   "id": "f03fcc58",
   "metadata": {},
   "outputs": [
    {
     "name": "stdout",
     "output_type": "stream",
     "text": [
      "torch.Size([1115394]) torch.int64\n"
     ]
    },
    {
     "data": {
      "text/plain": [
       "tensor([18, 47, 56, 57, 58,  1, 15, 47, 58, 47, 64, 43, 52, 10,  0, 14, 43, 44,\n",
       "        53, 56, 43,  1, 61, 43,  1, 54, 56, 53, 41, 43, 43, 42,  1, 39, 52, 63,\n",
       "         1, 44, 59, 56, 58, 46, 43, 56,  6,  1, 46, 43, 39, 56,  1, 51, 43,  1,\n",
       "        57, 54, 43, 39, 49,  8,  0,  0, 13, 50, 50, 10,  0, 31, 54, 43, 39, 49,\n",
       "         6,  1, 57, 54, 43, 39, 49,  8,  0,  0, 18, 47, 56, 57, 58,  1, 15, 47,\n",
       "        58, 47, 64, 43, 52, 10,  0, 37, 53, 59])"
      ]
     },
     "execution_count": 30,
     "metadata": {},
     "output_type": "execute_result"
    }
   ],
   "source": [
    "data = torch.tensor(encode(text),dtype=torch.long)\n",
    "print(data.shape,data.dtype)\n",
    "data[:100]\n"
   ]
  },
  {
   "cell_type": "code",
   "execution_count": 32,
   "id": "0924d522",
   "metadata": {},
   "outputs": [],
   "source": [
    "n = int(0.9*len(data))\n",
    "train_data = data[:n]\n",
    "val_data = data[n:]\n"
   ]
  },
  {
   "cell_type": "code",
   "execution_count": 39,
   "id": "61343fb5",
   "metadata": {},
   "outputs": [
    {
     "name": "stdout",
     "output_type": "stream",
     "text": [
      "tensor([18]) tensor(47)\n",
      "tensor([18, 47]) tensor(56)\n",
      "tensor([18, 47, 56]) tensor(57)\n",
      "tensor([18, 47, 56, 57]) tensor(58)\n",
      "tensor([18, 47, 56, 57, 58]) tensor(1)\n",
      "tensor([18, 47, 56, 57, 58,  1]) tensor(15)\n",
      "tensor([18, 47, 56, 57, 58,  1, 15]) tensor(47)\n",
      "tensor([18, 47, 56, 57, 58,  1, 15, 47]) tensor(58)\n"
     ]
    }
   ],
   "source": [
    "block_size = 8\n",
    "x = train_data[:block_size]\n",
    "y = train_data[1:block_size+1]\n",
    "for i in range(block_size):\n",
    "    context = x[:i+1]\n",
    "    target = y[i]\n",
    "    print(context,target)"
   ]
  },
  {
   "cell_type": "code",
   "execution_count": null,
   "id": "0e213b67",
   "metadata": {},
   "outputs": [
    {
     "name": "stdout",
     "output_type": "stream",
     "text": [
      "for input [24] -> output 43\n",
      "for input [24, 43] -> output 58\n",
      "for input [24, 43, 58] -> output 5\n",
      "for input [24, 43, 58, 5] -> output 57\n",
      "for input [24, 43, 58, 5, 57] -> output 1\n",
      "for input [24, 43, 58, 5, 57, 1] -> output 46\n",
      "for input [24, 43, 58, 5, 57, 1, 46] -> output 43\n",
      "for input [24, 43, 58, 5, 57, 1, 46, 43] -> output 39\n",
      "----------------------\n",
      "for input [44] -> output 53\n",
      "for input [44, 53] -> output 56\n",
      "for input [44, 53, 56] -> output 1\n",
      "for input [44, 53, 56, 1] -> output 58\n",
      "for input [44, 53, 56, 1, 58] -> output 46\n",
      "for input [44, 53, 56, 1, 58, 46] -> output 39\n",
      "for input [44, 53, 56, 1, 58, 46, 39] -> output 58\n",
      "for input [44, 53, 56, 1, 58, 46, 39, 58] -> output 1\n",
      "----------------------\n",
      "for input [52] -> output 58\n",
      "for input [52, 58] -> output 1\n",
      "for input [52, 58, 1] -> output 58\n",
      "for input [52, 58, 1, 58] -> output 46\n",
      "for input [52, 58, 1, 58, 46] -> output 39\n",
      "for input [52, 58, 1, 58, 46, 39] -> output 58\n",
      "for input [52, 58, 1, 58, 46, 39, 58] -> output 1\n",
      "for input [52, 58, 1, 58, 46, 39, 58, 1] -> output 46\n",
      "----------------------\n",
      "for input [25] -> output 17\n",
      "for input [25, 17] -> output 27\n",
      "for input [25, 17, 27] -> output 10\n",
      "for input [25, 17, 27, 10] -> output 0\n",
      "for input [25, 17, 27, 10, 0] -> output 21\n",
      "for input [25, 17, 27, 10, 0, 21] -> output 1\n",
      "for input [25, 17, 27, 10, 0, 21, 1] -> output 54\n",
      "for input [25, 17, 27, 10, 0, 21, 1, 54] -> output 39\n",
      "----------------------\n"
     ]
    },
    {
     "data": {
      "text/plain": [
       "torch.Size([])"
      ]
     },
     "execution_count": 51,
     "metadata": {},
     "output_type": "execute_result"
    }
   ],
   "source": [
    "torch.manual_seed(1337)\n",
    "batch_size = 4\n",
    "block_size = 8\n",
    "\n",
    "def get_split(split):\n",
    "    data = train_data if split == 'train' else val_data\n",
    "    ix = torch.randint(len(data)-block_size,(batch_size,))\n",
    "    x = torch.stack([data[i:i+block_size] for i in ix])\n",
    "    y = torch.stack([data[i+1:i+1+block_size] for i in ix])\n",
    "    return x , y\n",
    "\n",
    "xb,yb = get_split('train')\n",
    "\n",
    "for b in range(batch_size):\n",
    "    for t in range(block_size):\n",
    "        context = xb[b,:t+1]\n",
    "        target = yb[b,t]\n",
    "        print(f'for input {context.tolist()} -> output {target.item()}')\n",
    "    print('----------------------')\n",
    "\n"
   ]
  },
  {
   "cell_type": "code",
   "execution_count": null,
   "id": "80a62c69",
   "metadata": {},
   "outputs": [
    {
     "name": "stdout",
     "output_type": "stream",
     "text": [
      "tensor(4.8786, grad_fn=<NllLossBackward0>)\n",
      "torch.Size([32, 65])\n"
     ]
    }
   ],
   "source": [
    "torch.manual_seed(1337)\n",
    "class BiagramLanguageModel(nn.Module):\n",
    "    def __init__(self, vocab_size):\n",
    "        super().__init__()\n",
    "        self.token_embedding_table = nn.Embedding(vocab_size,vocab_size)\n",
    "\n",
    "    def forward(self,idx,target):\n",
    "        logits = self.token_embedding_table(idx)\n",
    "        B,T,C = logits.shape\n",
    "        logits = logits.view(B*T,C)\n",
    "        target = target.view(B*T)\n",
    "        loss = F.cross_entropy(logits,target)\n",
    "\n",
    "        return logits,loss\n",
    "\n",
    "m = BiagramLanguageModel(vocab_size)\n",
    "\n",
    "logits,loss = m.forward(xb,yb)\n",
    "print(loss)\n",
    "print(logits.shape)\n",
    "    "
   ]
  },
  {
   "cell_type": "code",
   "execution_count": 59,
   "id": "f44bab0e",
   "metadata": {},
   "outputs": [],
   "source": [
    "optimizer = torch.optim.AdamW(m.parameters(),lr=0.001)"
   ]
  },
  {
   "cell_type": "code",
   "execution_count": 81,
   "id": "00b7565b",
   "metadata": {},
   "outputs": [
    {
     "name": "stdout",
     "output_type": "stream",
     "text": [
      "tensor(2.4135, grad_fn=<NllLossBackward0>)\n"
     ]
    }
   ],
   "source": [
    "batch_size = 32\n",
    "for _ in range(1000):\n",
    "    xb,yb = get_split('train')\n",
    "    logits,loss = m.forward(xb,yb)\n",
    "    optimizer.zero_grad(set_to_none=True)\n",
    "    loss.backward()\n",
    "    optimizer.step()\n",
    "print(loss)\n",
    "\n",
    "\n"
   ]
  },
  {
   "cell_type": "code",
   "execution_count": 99,
   "id": "bda60de8",
   "metadata": {},
   "outputs": [],
   "source": [
    "torch.manual_seed(1337)\n",
    "class BiagramLanguageModel(nn.Module):\n",
    "    def __init__(self):\n",
    "        super().__init__()\n",
    "        self.token_embedding_table = nn.Embedding(vocab_size,vocab_size)\n",
    "\n",
    "    def forward(self,idx,target):\n",
    "        logits = self.token_embedding_table(idx)\n",
    "        B,T,C = logits.shape\n",
    "        logits = logits.view(B*T,C)\n",
    "        target = target.view(B*T)\n",
    "        loss = F.cross_entropy(logits,target)\n",
    "        # print(logits.shape)\n",
    "\n",
    "        return logits,loss\n",
    "\n",
    "m = BiagramLanguageModel()\n",
    "logits, loss = m.forward(xb,yb)\n"
   ]
  },
  {
   "cell_type": "code",
   "execution_count": 101,
   "id": "673565e6",
   "metadata": {},
   "outputs": [
    {
     "data": {
      "text/plain": [
       "tensor([[0., 0., 0., 0., 0., 0., 0., 0.],\n",
       "        [0., 0., 0., 0., 0., 0., 0., 0.],\n",
       "        [0., 0., 0., 0., 0., 0., 0., 0.],\n",
       "        [0., 0., 0., 0., 0., 0., 0., 0.],\n",
       "        [0., 0., 0., 0., 0., 0., 0., 0.],\n",
       "        [0., 0., 0., 0., 0., 0., 0., 0.],\n",
       "        [0., 0., 0., 0., 0., 0., 0., 0.],\n",
       "        [0., 0., 0., 0., 0., 0., 0., 0.]])"
      ]
     },
     "execution_count": 101,
     "metadata": {},
     "output_type": "execute_result"
    }
   ],
   "source": [
    "B,T,C = 4,8,32\n",
    "torch.zeros(T,T)"
   ]
  },
  {
   "cell_type": "code",
   "execution_count": 119,
   "id": "673223cd",
   "metadata": {},
   "outputs": [
    {
     "data": {
      "text/plain": [
       "tensor([[0., -inf, -inf, -inf, -inf, -inf, -inf, -inf],\n",
       "        [0., 0., -inf, -inf, -inf, -inf, -inf, -inf],\n",
       "        [0., 0., 0., -inf, -inf, -inf, -inf, -inf],\n",
       "        [0., 0., 0., 0., -inf, -inf, -inf, -inf],\n",
       "        [0., 0., 0., 0., 0., -inf, -inf, -inf],\n",
       "        [0., 0., 0., 0., 0., 0., -inf, -inf],\n",
       "        [0., 0., 0., 0., 0., 0., 0., -inf],\n",
       "        [0., 0., 0., 0., 0., 0., 0., 0.]])"
      ]
     },
     "execution_count": 119,
     "metadata": {},
     "output_type": "execute_result"
    }
   ],
   "source": [
    "tril = torch.tril(torch.ones(T,T))\n",
    "wei = torch.zeros(T,T)\n",
    "wei = wei.masked_fill(tril == 0 , float('-inf'))\n",
    "wei"
   ]
  },
  {
   "cell_type": "code",
   "execution_count": 121,
   "id": "f94f8f32",
   "metadata": {},
   "outputs": [
    {
     "data": {
      "text/plain": [
       "tensor([[0.2797, 0.1029, 0.1029, 0.1029, 0.1029, 0.1029, 0.1029, 0.1029],\n",
       "        [0.1773, 0.1773, 0.1076, 0.1076, 0.1076, 0.1076, 0.1076, 0.1076],\n",
       "        [0.1519, 0.1519, 0.1519, 0.1089, 0.1089, 0.1089, 0.1089, 0.1089],\n",
       "        [0.1405, 0.1405, 0.1405, 0.1405, 0.1095, 0.1095, 0.1095, 0.1095],\n",
       "        [0.1341, 0.1341, 0.1341, 0.1341, 0.1341, 0.1098, 0.1098, 0.1098],\n",
       "        [0.1300, 0.1300, 0.1300, 0.1300, 0.1300, 0.1300, 0.1100, 0.1100],\n",
       "        [0.1271, 0.1271, 0.1271, 0.1271, 0.1271, 0.1271, 0.1271, 0.1102],\n",
       "        [0.1250, 0.1250, 0.1250, 0.1250, 0.1250, 0.1250, 0.1250, 0.1250]])"
      ]
     },
     "execution_count": 121,
     "metadata": {},
     "output_type": "execute_result"
    }
   ],
   "source": [
    "wei = F.softmax(wei,dim =-1)\n",
    "wei"
   ]
  },
  {
   "cell_type": "code",
   "execution_count": 126,
   "id": "5bdf0148",
   "metadata": {},
   "outputs": [
    {
     "data": {
      "text/plain": [
       "torch.Size([4, 8, 32])"
      ]
     },
     "execution_count": 126,
     "metadata": {},
     "output_type": "execute_result"
    }
   ],
   "source": [
    "x = torch.randn(B,T,C)\n",
    "out = wei @ x\n",
    "out.shape"
   ]
  },
  {
   "cell_type": "code",
   "execution_count": 155,
   "id": "51b07bfc",
   "metadata": {},
   "outputs": [
    {
     "data": {
      "text/plain": [
       "tensor([[-0.6841, -0.5638, -0.2279,  0.4443,  0.2718,  0.2982, -0.5557, -0.2690,\n",
       "          0.0644,  0.0468, -0.7681, -0.4201, -0.8925, -1.8488,  0.1754,  0.3729],\n",
       "        [-0.0793, -0.2409, -0.3245,  0.4120,  0.0099,  0.2230, -0.1024, -0.1015,\n",
       "          0.0300,  0.2737, -0.2424,  0.2448, -0.4092, -0.8259, -0.2421, -0.1070],\n",
       "        [-0.0354, -0.1061, -0.1841,  0.2840,  0.0862,  0.0334, -0.0048,  0.1523,\n",
       "         -0.0907,  0.2187,  0.1581,  0.2854,  0.0535, -0.4993, -0.4435, -0.2363],\n",
       "        [-0.2628, -0.1917, -0.0780,  0.2148, -0.0968, -0.0111, -0.0878,  0.0442,\n",
       "          0.0114,  0.0674,  0.2046,  0.0160, -0.0105, -0.4364, -0.2321,  0.0325],\n",
       "        [-0.0619, -0.1428, -0.0903,  0.1182, -0.2610,  0.0310, -0.1157, -0.0066,\n",
       "          0.0284,  0.0410,  0.1522,  0.1522, -0.1466, -0.3224, -0.2496,  0.0220],\n",
       "        [-0.2027, -0.1387, -0.0308,  0.0485, -0.3569,  0.1092, -0.0804, -0.1644,\n",
       "          0.1587,  0.0290,  0.1002,  0.1984, -0.2671, -0.2561, -0.2712,  0.0610],\n",
       "        [-0.4286, -0.2256,  0.1320, -0.0119, -0.4361, -0.0569, -0.0616, -0.4255,\n",
       "          0.2596, -0.0080,  0.0150, -0.0981, -0.1927, -0.3218, -0.1857,  0.4919],\n",
       "        [-0.2405, -0.2243,  0.0083,  0.0134, -0.4124,  0.1428,  0.0229, -0.4618,\n",
       "          0.2623,  0.1434, -0.1348,  0.1800, -0.2265, -0.3166, -0.2759,  0.2734]],\n",
       "       grad_fn=<SelectBackward0>)"
      ]
     },
     "execution_count": 155,
     "metadata": {},
     "output_type": "execute_result"
    }
   ],
   "source": [
    "head_size = 16\n",
    "x = torch.randn(B,T,C)\n",
    "query = nn.Linear(C,head_size,bias=None)\n",
    "key = nn.Linear(C,head_size,bias=None)\n",
    "value = nn.Linear(C,head_size,bias=None)\n",
    "q = query(x)\n",
    "k = key(x)\n",
    "v = value(x)\n",
    "wei = q @ k.transpose(-1,-2) * (head_size ** -0.5) \n",
    "tril = torch.tril(torch.ones(T,T))\n",
    "wei = wei.masked_fill(tril == 0,float('-inf'))\n",
    "wei = F.softmax(wei,dim = -1)\n",
    "out = wei @ v\n",
    "out[0]\n",
    "\n",
    "\n"
   ]
  },
  {
   "cell_type": "code",
   "execution_count": null,
   "id": "4a8b3eb0",
   "metadata": {},
   "outputs": [],
   "source": []
  },
  {
   "cell_type": "code",
   "execution_count": 156,
   "id": "28d0939b",
   "metadata": {},
   "outputs": [
    {
     "data": {
      "text/plain": [
       "tensor([[1.0000, 0.0000, 0.0000, 0.0000, 0.0000, 0.0000, 0.0000, 0.0000],\n",
       "        [0.5809, 0.4191, 0.0000, 0.0000, 0.0000, 0.0000, 0.0000, 0.0000],\n",
       "        [0.3558, 0.3724, 0.2718, 0.0000, 0.0000, 0.0000, 0.0000, 0.0000],\n",
       "        [0.2562, 0.2877, 0.2246, 0.2315, 0.0000, 0.0000, 0.0000, 0.0000],\n",
       "        [0.1772, 0.2828, 0.1995, 0.1561, 0.1844, 0.0000, 0.0000, 0.0000],\n",
       "        [0.1505, 0.2006, 0.1971, 0.1699, 0.1553, 0.1267, 0.0000, 0.0000],\n",
       "        [0.1023, 0.0937, 0.1447, 0.2979, 0.1256, 0.0694, 0.1665, 0.0000],\n",
       "        [0.1559, 0.0992, 0.1109, 0.1041, 0.1245, 0.1653, 0.1415, 0.0986]],\n",
       "       grad_fn=<SelectBackward0>)"
      ]
     },
     "execution_count": 156,
     "metadata": {},
     "output_type": "execute_result"
    }
   ],
   "source": [
    "wei[0]"
   ]
  }
 ],
 "metadata": {
  "kernelspec": {
   "display_name": "ml2-env",
   "language": "python",
   "name": "python3"
  },
  "language_info": {
   "codemirror_mode": {
    "name": "ipython",
    "version": 3
   },
   "file_extension": ".py",
   "mimetype": "text/x-python",
   "name": "python",
   "nbconvert_exporter": "python",
   "pygments_lexer": "ipython3",
   "version": "3.10.18"
  }
 },
 "nbformat": 4,
 "nbformat_minor": 5
}
