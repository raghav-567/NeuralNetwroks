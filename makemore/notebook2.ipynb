{
 "cells": [
  {
   "cell_type": "code",
   "execution_count": 77,
   "id": "fe519110",
   "metadata": {},
   "outputs": [],
   "source": [
    "import torch\n",
    "import pandas as pd\n",
    "import numpy as np\n",
    "import torch.nn.functional as F\n",
    "import matplotlib.pyplot as plt\n"
   ]
  },
  {
   "cell_type": "code",
   "execution_count": 78,
   "id": "caf996e5",
   "metadata": {},
   "outputs": [
    {
     "data": {
      "text/plain": [
       "['emma',\n",
       " 'olivia',\n",
       " 'ava',\n",
       " 'isabella',\n",
       " 'sophia',\n",
       " 'charlotte',\n",
       " 'mia',\n",
       " 'amelia',\n",
       " 'harper',\n",
       " 'evelyn']"
      ]
     },
     "execution_count": 78,
     "metadata": {},
     "output_type": "execute_result"
    }
   ],
   "source": [
    "words = open('/Users/raghx/Desktop/Neural Networks/names.txt','r',).read().splitlines()\n",
    "words[:10]"
   ]
  },
  {
   "cell_type": "code",
   "execution_count": 79,
   "id": "a277bb1e",
   "metadata": {},
   "outputs": [],
   "source": [
    "chars = sorted(list(set(''.join(words))))\n",
    "stoi = {s:i+1 for i,s in enumerate(chars)}\n",
    "stoi['.'] = 0\n",
    "itos = {i: s for s, i in stoi.items()}\n",
    "vocab_length = len(itos)\n",
    "      "
   ]
  },
  {
   "cell_type": "code",
   "execution_count": 80,
   "id": "258232ec",
   "metadata": {},
   "outputs": [],
   "source": [
    "#Dataset Creation\n",
    "def build_dataset(words):\n",
    "    X = []\n",
    "    Y = []\n",
    "    block_size = 3\n",
    "    for w in words:\n",
    "        context = [0] * block_size\n",
    "        for ch in w+'.':\n",
    "            ix = stoi[ch]\n",
    "            X.append(context)\n",
    "            Y.append(ix)\n",
    "            context = context[1:] + [ix]\n",
    "    X = torch.tensor(X)\n",
    "    Y = torch.tensor(Y)\n",
    "    \n",
    "    return X,Y\n"
   ]
  },
  {
   "cell_type": "code",
   "execution_count": 81,
   "id": "a3fafc7b",
   "metadata": {},
   "outputs": [],
   "source": [
    "n1 = int(0.8 * len(words))\n",
    "n2 = int(0.9 * len(words))\n",
    "X_tr,Y_tr = build_dataset(words[:n1])\n",
    "X_val,Y_val = build_dataset(words[n1:n2])\n",
    "X_test,Y_test = build_dataset(words[n2:])\n"
   ]
  },
  {
   "cell_type": "code",
   "execution_count": 145,
   "id": "98a971a7",
   "metadata": {},
   "outputs": [
    {
     "name": "stdout",
     "output_type": "stream",
     "text": [
      "12297\n"
     ]
    }
   ],
   "source": [
    "n_embedding = 10\n",
    "n_hidden = 200\n",
    "block_size = 3 \n",
    "g = torch.Generator().manual_seed(3332321)\n",
    "C = torch.randn(((vocab_length,n_embedding)),generator=g)\n",
    "w1 = torch.randn((n_embedding * block_size,n_hidden),generator=g) * ((2)/((n_embedding * block_size) ** 0.5))       # kamimi init for relu\n",
    "b1 = torch.randn(n_hidden,generator=g) * 0.001\n",
    "w2 = torch.randn((n_hidden,vocab_length),generator=g) * 0.01\n",
    "b2 = torch.randn(vocab_length,generator=g) * 0\n",
    "bn_gain = torch.ones(1,n_hidden)\n",
    "bn_bias = torch.zeros(1,n_hidden)\n",
    "bn_running_mean = torch.zeros(1,n_hidden)\n",
    "bn_running_std = torch.ones(1,n_hidden)\n",
    "params = [C,w1,b1,w2,b2,bn_bias,bn_gain]\n",
    "print(sum(p.nelement() for p in params))\n",
    "for p in params:\n",
    "    p.requires_grad = True"
   ]
  },
  {
   "cell_type": "code",
   "execution_count": null,
   "id": "2ec542f4",
   "metadata": {},
   "outputs": [
    {
     "name": "stdout",
     "output_type": "stream",
     "text": [
      "0/30000:3.297067165374756\n",
      "5000/30000:2.1528611183166504\n",
      "10000/30000:2.5738255977630615\n",
      "15000/30000:2.1992268562316895\n",
      "20000/30000:2.448018789291382\n",
      "25000/30000:2.1391046047210693\n"
     ]
    }
   ],
   "source": [
    "#forward pass\n",
    "batch_size = 32 \n",
    "max_steps = 30000\n",
    "loss_i =[]\n",
    "momentum = 0.99\n",
    "for k in range(max_steps):\n",
    "    ikx = torch.randint(0,X_tr.shape[0],(batch_size,),generator=g)\n",
    "    embd = C[X_tr[ikx]]\n",
    "    a_pre_activation = embd.view(embd.shape[0],-1) @ w1 + b1\n",
    "#batch normalization    \n",
    "    meani =  a_pre_activation.mean(0,keepdim=True)\n",
    "    stdi = a_pre_activation.std(0,keepdim=True)\n",
    "    a_pre_activation = bn_gain * ((a_pre_activation - meani)/(0.00001 + stdi )) + bn_bias    \n",
    "    with torch.no_grad():\n",
    "        bn_running_mean = momentum * bn_running_mean + 0.01 * meani\n",
    "        bn_running_std = momentum * bn_running_std + 0.01 * stdi\n",
    "#activations for hidden layer\n",
    "    a = torch.relu(a_pre_activation)\n",
    "#Output layer    \n",
    "    logits = a @ w2 + b2\n",
    "    loss = F.cross_entropy(logits,Y_tr[ikx])\n",
    "#backward pass\n",
    "    for p in params:\n",
    "        p.grad = None\n",
    "    loss.backward()\n",
    "    lr = 0.001 if k > 10000 else 0.1\n",
    "    for p in params:\n",
    "        p.data += -lr * p.grad\n",
    "\n",
    "    if k % 5000 == 0:\n",
    "        print(f'{k}/{max_steps}:{loss.item()}')\n",
    "\n",
    "    loss_i.append(loss.item())\n",
    "\n",
    "\n",
    "  \n",
    "\n",
    "   "
   ]
  },
  {
   "cell_type": "code",
   "execution_count": 149,
   "id": "12e6d840",
   "metadata": {},
   "outputs": [
    {
     "data": {
      "text/plain": [
       "[<matplotlib.lines.Line2D at 0x128c53d10>]"
      ]
     },
     "execution_count": 149,
     "metadata": {},
     "output_type": "execute_result"
    },
    {
     "data": {
      "image/png": "[encoded data removed]",
      "text/plain": [
       "<Figure size 640x480 with 1 Axes>"
      ]
     },
     "metadata": {},
     "output_type": "display_data"
    }
   ],
   "source": [
    "plt.plot(loss_i)"
   ]
  },
  {
   "cell_type": "code",
   "execution_count": null,
   "id": "8345ac82",
   "metadata": {},
   "outputs": [
    {
     "name": "stdout",
     "output_type": "stream",
     "text": [
      "Training loss 2.1468417644500732\n",
      "Validation loss 2.405622959136963\n"
     ]
    }
   ],
   "source": [
    "#Inference \n",
    "@torch.no_grad()\n",
    "def Split_loss(split):\n",
    "    x,y = {\n",
    "        'train': (X_tr,Y_tr),\n",
    "        'val': (X_val,Y_val),\n",
    "        'test': (X_test,Y_test)\n",
    "    }[split]\n",
    "    embd = C[x]\n",
    "    a_pre_activation = embd.view(embd.shape[0],-1) @ w1 + b1\n",
    "    a_pre_activation = bn_gain * ((a_pre_activation - bn_running_mean)/(0.00001 + bn_running_std)) + bn_bias\n",
    "    a = torch.relu(a_pre_activation)\n",
    "    logits = a @ w2 + b2\n",
    "    loss = F.cross_entropy(logits,y)\n",
    "    return loss.item()\n",
    "\n",
    "print(\"Training loss\",Split_loss('train'))\n",
    "print(\"Validation loss\",Split_loss('val'))\n",
    "\n",
    "\n",
    "\n"
   ]
  },
  {
   "cell_type": "code",
   "execution_count": null,
   "id": "d26d444a",
   "metadata": {},
   "outputs": [],
   "source": [
    "# -> Original initial loss\n",
    "# Training loss 25.325109481811523\n",
    "# Validation loss 25.109655380249023\n",
    "\n",
    "# -> after fixing initial loss by reducing bias and weights value for reducing output logits value\n",
    "# Training loss 3.897186756134033\n",
    "# Validation loss 3.88931941986084\n",
    "\n",
    "# -> fixing tanh problem by reducing b1 and w1\n",
    "# Training loss 2.1027655601501465\n",
    "# Validation loss 2.3686301708221436"
   ]
  }
 ],
 "metadata": {
  "kernelspec": {
   "display_name": "Python (ML2)",
   "language": "python",
   "name": "ml2-env"
  },
  "language_info": {
   "codemirror_mode": {
    "name": "ipython",
    "version": 3
   },
   "file_extension": ".py",
   "mimetype": "text/x-python",
   "name": "python",
   "nbconvert_exporter": "python",
   "pygments_lexer": "ipython3",
   "version": "3.12.5"
  }
 },
 "nbformat": 4,
 "nbformat_minor": 5
}
