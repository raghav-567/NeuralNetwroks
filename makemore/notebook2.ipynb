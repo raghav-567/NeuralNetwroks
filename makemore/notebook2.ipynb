{
 "cells": [
  {
   "cell_type": "code",
   "execution_count": 7,
   "id": "fe519110",
   "metadata": {},
   "outputs": [],
   "source": [
    "import torch\n",
    "import pandas as pd\n",
    "import numpy as np\n",
    "import torch.nn.functional as F\n",
    "import matplotlib.pyplot as plt\n"
   ]
  },
  {
   "cell_type": "code",
   "execution_count": 8,
   "id": "caf996e5",
   "metadata": {},
   "outputs": [
    {
     "data": {
      "text/plain": [
       "['emma',\n",
       " 'olivia',\n",
       " 'ava',\n",
       " 'isabella',\n",
       " 'sophia',\n",
       " 'charlotte',\n",
       " 'mia',\n",
       " 'amelia',\n",
       " 'harper',\n",
       " 'evelyn']"
      ]
     },
     "execution_count": 8,
     "metadata": {},
     "output_type": "execute_result"
    }
   ],
   "source": [
    "words = open('/Users/raghx/Desktop/Neural Networks/makemore/names.txt','r',).read().splitlines()\n",
    "words[:10]"
   ]
  },
  {
   "cell_type": "code",
   "execution_count": 9,
   "id": "a277bb1e",
   "metadata": {},
   "outputs": [],
   "source": [
    "chars = sorted(list(set(''.join(words))))\n",
    "stoi = {s:i+1 for i,s in enumerate(chars)}\n",
    "stoi['.'] = 0\n",
    "itos = {i: s for s, i in stoi.items()}\n",
    "vocab_length = len(itos)\n",
    "      "
   ]
  },
  {
   "cell_type": "code",
   "execution_count": null,
   "id": "258232ec",
   "metadata": {},
   "outputs": [],
   "source": [
    "#Dataset Creation\n",
    "def build_dataset(words):\n",
    "    X = []\n",
    "    Y = []\n",
    "    block_size = 3\n",
    "    for w in words:\n",
    "        context = [0] * block_size\n",
    "        for ch in w+'.':\n",
    "            ix = stoi[ch]\n",
    "            X.append(context)\n",
    "            Y.append(ix)\n",
    "            context = context[1:] + [ix]\n",
    "    X = torch.tensor(X)\n",
    "    Y = torch.tensor(Y)\n",
    "    \n",
    "    return X,Y\n"
   ]
  },
  {
   "cell_type": "code",
   "execution_count": 11,
   "id": "a3fafc7b",
   "metadata": {},
   "outputs": [],
   "source": [
    "n1 = int(0.8 * len(words))\n",
    "n2 = int(0.9 * len(words))\n",
    "X_tr,Y_tr = build_dataset(words[:n1])\n",
    "X_val,Y_val = build_dataset(words[n1:n2])\n",
    "X_test,Y_test = build_dataset(words[n2:])\n"
   ]
  },
  {
   "cell_type": "code",
   "execution_count": 12,
   "id": "98a971a7",
   "metadata": {},
   "outputs": [
    {
     "name": "stdout",
     "output_type": "stream",
     "text": [
      "12097\n"
     ]
    }
   ],
   "source": [
    "n_embedding = 10\n",
    "n_hidden = 200\n",
    "block_size = 3 \n",
    "g = torch.Generator().manual_seed(3332321)\n",
    "C = torch.randn(((vocab_length,n_embedding)),generator=g)\n",
    "w1 = torch.randn((n_embedding * block_size,n_hidden),generator=g) * ((2)/((n_embedding * block_size) ** 0.5))       # kamimi init for relu\n",
    "# b1 = torch.randn(n_hidden,generator=g) * 0.001    # bias not used because we have batch normal layer's bias(bn_bias)\n",
    "w2 = torch.randn((n_hidden,vocab_length),generator=g) * 0.01\n",
    "b2 = torch.randn(vocab_length,generator=g) * 0\n",
    "bn_gain = torch.ones(1,n_hidden)\n",
    "bn_bias = torch.zeros(1,n_hidden)\n",
    "bn_running_mean = torch.zeros(1,n_hidden)\n",
    "bn_running_std = torch.ones(1,n_hidden)\n",
    "params = [C,w1,w2,b2,bn_bias,bn_gain]\n",
    "print(sum(p.nelement() for p in params))\n",
    "for p in params:\n",
    "    p.requires_grad = True"
   ]
  },
  {
   "cell_type": "code",
   "execution_count": 13,
   "id": "2ec542f4",
   "metadata": {},
   "outputs": [
    {
     "name": "stdout",
     "output_type": "stream",
     "text": [
      "0/30000:3.302718162536621\n",
      "5000/30000:2.090196371078491\n",
      "10000/30000:2.218991756439209\n",
      "15000/30000:1.9394466876983643\n",
      "20000/30000:1.9241738319396973\n",
      "25000/30000:2.2006077766418457\n"
     ]
    }
   ],
   "source": [
    "#forward pass\n",
    "batch_size = 32 \n",
    "max_steps = 30000\n",
    "loss_i =[]\n",
    "momentum = 0.99\n",
    "for k in range(max_steps):\n",
    "    ikx = torch.randint(0,X_tr.shape[0],(batch_size,),generator=g)\n",
    "    embd = C[X_tr[ikx]]\n",
    "    a_pre_activation = embd.view(embd.shape[0],-1) @ w1 #b1\n",
    "#batch normalization    \n",
    "    meani =  a_pre_activation.mean(0,keepdim=True)\n",
    "    stdi = a_pre_activation.std(0,keepdim=True)\n",
    "    a_pre_activation = bn_gain * ((a_pre_activation - meani)/(0.00001 + stdi )) + bn_bias    \n",
    "    with torch.no_grad():\n",
    "        bn_running_mean = momentum * bn_running_mean + 0.01 * meani\n",
    "        bn_running_std = momentum * bn_running_std + 0.01 * stdi\n",
    "#activations for hidden layer\n",
    "    a = torch.relu(a_pre_activation)\n",
    "#Output layer    \n",
    "    logits = a @ w2 + b2\n",
    "    loss = F.cross_entropy(logits,Y_tr[ikx])\n",
    "#backward pass\n",
    "    for p in params:\n",
    "        p.grad = None\n",
    "    loss.backward()\n",
    "    lr = 0.001 if k > 10000 else 0.1\n",
    "    for p in params:\n",
    "        p.data += -lr * p.grad\n",
    "\n",
    "    if k % 5000 == 0:\n",
    "        print(f'{k}/{max_steps}:{loss.item()}')\n",
    "\n",
    "    loss_i.append(loss.item())"
   ]
  },
  {
   "cell_type": "code",
   "execution_count": 16,
   "id": "d3e2260e",
   "metadata": {},
   "outputs": [
    {
     "data": {
      "text/plain": [
       "[<matplotlib.lines.Line2D at 0x11ee1ebf0>]"
      ]
     },
     "execution_count": 16,
     "metadata": {},
     "output_type": "execute_result"
    },
    {
     "data": {
      "image/png": "[encoded data removed]",
      "text/plain": [
       "<Figure size 640x480 with 1 Axes>"
      ]
     },
     "metadata": {},
     "output_type": "display_data"
    }
   ],
   "source": [
    "plt.plot(torch.tensor(loss_i).view(-1,1000).mean(1))"
   ]
  },
  {
   "cell_type": "code",
   "execution_count": null,
   "id": "8345ac82",
   "metadata": {},
   "outputs": [
    {
     "name": "stdout",
     "output_type": "stream",
     "text": [
      "Training loss 2.147233247756958\n",
      "Validation loss 2.4052977561950684\n"
     ]
    }
   ],
   "source": [
    "#Inference \n",
    "@torch.no_grad()\n",
    "def Split_loss(split):\n",
    "    x,y = {\n",
    "        'train': (X_tr,Y_tr),\n",
    "        'val': (X_val,Y_val),\n",
    "        'test': (X_test,Y_test)\n",
    "    }[split]\n",
    "    embd = C[x]\n",
    "    a_pre_activation = embd.view(embd.shape[0],-1) @ w1 # + b1\n",
    "    a_pre_activation = bn_gain * ((a_pre_activation - bn_running_mean)/(0.00001 + bn_running_std)) + bn_bias\n",
    "    a = torch.relu(a_pre_activation)\n",
    "    logits = a @ w2 + b2\n",
    "    loss = F.cross_entropy(logits,y)\n",
    "    return loss.item()\n",
    "\n",
    "print(\"Training loss\",Split_loss('train'))\n",
    "print(\"Validation loss\",Split_loss('val'))"
   ]
  },
  {
   "cell_type": "code",
   "execution_count": null,
   "id": "d26d444a",
   "metadata": {},
   "outputs": [],
   "source": [
    "# -> Original initial loss\n",
    "# Training loss 25.325109481811523\n",
    "# Validation loss 25.109655380249023\n",
    "\n",
    "# -> after fixing initial loss by reducing bias and weights value for reducing output logits value\n",
    "# Training loss 3.897186756134033\n",
    "# Validation loss 3.88931941986084\n",
    "\n",
    "# -> fixing tanh problem by reducing b1 and w1\n",
    "# Training loss 2.1027655601501465\n",
    "# Validation loss 2.3686301708221436"
   ]
  },
  {
   "cell_type": "code",
   "execution_count": 99,
   "id": "700e0547",
   "metadata": {},
   "outputs": [],
   "source": [
    "def build_dataset(words):\n",
    "    X = []\n",
    "    Y = []\n",
    "    block_size = 8\n",
    "    for w in words:\n",
    "        context = [0] * block_size\n",
    "        for ch in w+'.':\n",
    "            ix = stoi[ch]\n",
    "            X.append(context)\n",
    "            Y.append(ix)\n",
    "            context = context[1:] + [ix]\n",
    "    X = torch.tensor(X)\n",
    "    Y = torch.tensor(Y)\n",
    "    \n",
    "    return X,Y"
   ]
  },
  {
   "cell_type": "code",
   "execution_count": 100,
   "id": "4cea69d2",
   "metadata": {},
   "outputs": [],
   "source": [
    "n1 = int(0.8 * len(words))\n",
    "n2 = int(0.9 * len(words))\n",
    "X_tr,Y_tr = build_dataset(words[:n1])\n",
    "X_val,Y_val = build_dataset(words[n1:n2])\n",
    "X_test,Y_test = build_dataset(words[n2:])"
   ]
  },
  {
   "cell_type": "code",
   "execution_count": 108,
   "id": "7c0b7651",
   "metadata": {},
   "outputs": [],
   "source": [
    "class Linear:\n",
    "  \n",
    "  def __init__(self, fan_in, fan_out, bias=True):\n",
    "    self.weight = torch.randn((fan_in, fan_out)) / fan_in**0.5 # note: kaiming init\n",
    "    self.bias = torch.zeros(fan_out) if bias else None\n",
    "  \n",
    "  def __call__(self, x):\n",
    "    self.out = x @ self.weight\n",
    "    if self.bias is not None:\n",
    "      self.out += self.bias\n",
    "    return self.out\n",
    "  \n",
    "  def parameters(self):\n",
    "    return [self.weight] + ([] if self.bias is None else [self.bias])\n",
    "\n",
    "# -----------------------------------------------------------------------------------------------\n",
    "class BatchNorm1d:\n",
    "  \n",
    "  def __init__(self, dim, eps=1e-5, momentum=0.1):\n",
    "    self.eps = eps\n",
    "    self.momentum = momentum\n",
    "    self.training = True\n",
    "    # parameters (trained with backprop)\n",
    "    self.gamma = torch.ones(dim)\n",
    "    self.beta = torch.zeros(dim)\n",
    "    # buffers (trained with a running 'momentum update')\n",
    "    self.running_mean = torch.zeros(dim)\n",
    "    self.running_var = torch.ones(dim)\n",
    "  \n",
    "  def __call__(self, x):\n",
    "    # calculate the forward pass\n",
    "    if self.training:\n",
    "      if x.ndim == 2:\n",
    "        dim = 0\n",
    "      elif x.ndim == 3:\n",
    "        dim = (0,1)\n",
    "      xmean = x.mean(dim, keepdim=True) # batch mean\n",
    "      xvar = x.var(dim, keepdim=True) # batch variance\n",
    "    else:\n",
    "      xmean = self.running_mean\n",
    "      xvar = self.running_var\n",
    "    xhat = (x - xmean) / torch.sqrt(xvar + self.eps) # normalize to unit variance\n",
    "    self.out = self.gamma * xhat + self.beta\n",
    "    # update the buffers\n",
    "    if self.training:\n",
    "      with torch.no_grad():\n",
    "        self.running_mean = (1 - self.momentum) * self.running_mean + self.momentum * xmean\n",
    "        self.running_var = (1 - self.momentum) * self.running_var + self.momentum * xvar\n",
    "    return self.out\n",
    "  \n",
    "  def parameters(self):\n",
    "    return [self.gamma, self.beta]\n",
    "\n",
    "# -----------------------------------------------------------------------------------------------\n",
    "class Tanh:\n",
    "  def __call__(self, x):\n",
    "    self.out = torch.tanh(x)\n",
    "    return self.out\n",
    "  def parameters(self):\n",
    "    return []\n",
    "\n",
    "# -----------------------------------------------------------------------------------------------\n",
    "class Embedding:\n",
    "  \n",
    "  def __init__(self, num_embeddings, embedding_dim):\n",
    "    self.weight = torch.randn((num_embeddings, embedding_dim))\n",
    "    \n",
    "  def __call__(self, IX):\n",
    "    self.out = self.weight[IX]\n",
    "    return self.out\n",
    "  \n",
    "  def parameters(self):\n",
    "    return [self.weight]\n",
    "\n",
    "# -----------------------------------------------------------------------------------------------\n",
    "class FlattenConsecutive:\n",
    "  def __init__(self, n):\n",
    "    self.n = n\n",
    "    \n",
    "  def __call__(self, x):\n",
    "    B, T, C = x.shape\n",
    "    x = x.view(B, T//self.n, C*self.n)\n",
    "    if x.shape[1] == 1:\n",
    "      x = x.squeeze(1)\n",
    "    self.out = x\n",
    "    return self.out\n",
    "  \n",
    "  def parameters(self):\n",
    "    return []\n",
    "\n",
    "# -----------------------------------------------------------------------------------------------\n",
    "class Sequential:\n",
    "  \n",
    "  def __init__(self, layers):\n",
    "    self.layers = layers\n",
    "  \n",
    "  def __call__(self, x):\n",
    "    for layer in self.layers:\n",
    "      x = layer(x)\n",
    "    self.out = x\n",
    "    return self.out\n",
    "  \n",
    "  def parameters(self):\n",
    "    # get parameters of all layers and stretch them out into one list\n",
    "    return [p for layer in self.layers for p in layer.parameters()]"
   ]
  },
  {
   "cell_type": "code",
   "execution_count": 109,
   "id": "8c4316fa",
   "metadata": {},
   "outputs": [
    {
     "name": "stdout",
     "output_type": "stream",
     "text": [
      "45597\n"
     ]
    }
   ],
   "source": [
    "n_embd = 10 # the dimensionality of the character embedding vectors\n",
    "n_hidden = 100 # the number of neurons in the hidden layer of the MLP\n",
    "g = torch.Generator().manual_seed(2147483647) # for reproducibility\n",
    "\n",
    "# C = torch.randn((vocab_length, n_embd),            generator=g)\n",
    "model  = Sequential([\n",
    "  Embedding(vocab_length, n_embd),\n",
    "  FlattenConsecutive(2), Linear(n_embd * 2, n_hidden, bias=False), BatchNorm1d(n_hidden), Tanh(),\n",
    "  FlattenConsecutive(2), Linear(n_hidden*2, n_hidden, bias=False), BatchNorm1d(n_hidden), Tanh(),\n",
    "  FlattenConsecutive(2), Linear(n_hidden*2, n_hidden, bias=False), BatchNorm1d(n_hidden), Tanh(),\n",
    "  Linear(n_hidden, vocab_length),\n",
    "])\n",
    "with torch.no_grad():\n",
    "  model.layers[-1].weight *= 0.1 # last layer make less confident\n",
    "\n",
    "parameters = model.parameters()\n",
    "print(sum(p.nelement() for p in parameters)) # number of parameters in total\n",
    "for p in parameters:\n",
    "  p.requires_grad = True\n"
   ]
  },
  {
   "cell_type": "code",
   "execution_count": 110,
   "id": "9ce61e0e",
   "metadata": {},
   "outputs": [
    {
     "name": "stdout",
     "output_type": "stream",
     "text": [
      "      0/ 150000: 3.2874\n",
      "  10000/ 150000: 1.9098\n",
      "  20000/ 150000: 1.6712\n",
      "  30000/ 150000: 2.1179\n",
      "  40000/ 150000: 2.1465\n",
      "  50000/ 150000: 1.5393\n",
      "  60000/ 150000: 2.2182\n",
      "  70000/ 150000: 2.1403\n",
      "  80000/ 150000: 1.9309\n",
      "  90000/ 150000: 2.1168\n",
      " 100000/ 150000: 2.0781\n",
      " 110000/ 150000: 1.7501\n",
      " 120000/ 150000: 2.0453\n",
      " 130000/ 150000: 2.2614\n",
      " 140000/ 150000: 2.0467\n"
     ]
    }
   ],
   "source": [
    "max_steps = 150000\n",
    "batch_size = 32\n",
    "lossi = []\n",
    "\n",
    "for i in range(max_steps):\n",
    "  \n",
    "  # minibatch construct\n",
    "  ix = torch.randint(0, X_tr.shape[0], (batch_size,))\n",
    "  Xb, Yb = X_tr[ix], Y_tr[ix] # batch X,Y\n",
    "  \n",
    "  # forward pass\n",
    "  logits = model(Xb)\n",
    "  loss = F.cross_entropy(logits, Yb) # loss function\n",
    "  \n",
    "  # backward pass\n",
    "  for p in parameters:\n",
    "    p.grad = None\n",
    "  loss.backward()\n",
    "  \n",
    "  # update: simple SGD\n",
    "  lr = 0.1 if i < 150000 else 0.01 # step learning rate decay\n",
    "  for p in parameters:\n",
    "    p.data += -lr * p.grad\n",
    "\n",
    "  # track stats\n",
    "  if i % 10000 == 0: # print every once in a while\n",
    "    print(f'{i:7d}/{max_steps:7d}: {loss.item():.4f}')\n",
    "  lossi.append(loss.log10().item())"
   ]
  },
  {
   "cell_type": "code",
   "execution_count": 111,
   "id": "b737c41d",
   "metadata": {},
   "outputs": [
    {
     "data": {
      "text/plain": [
       "[<matplotlib.lines.Line2D at 0x13b5bdc60>]"
      ]
     },
     "execution_count": 111,
     "metadata": {},
     "output_type": "execute_result"
    },
    {
     "data": {
      "image/png": "[encoded data removed]",
      "text/plain": [
       "<Figure size 640x480 with 1 Axes>"
      ]
     },
     "metadata": {},
     "output_type": "display_data"
    }
   ],
   "source": [
    "plt.plot(torch.tensor(lossi).view(-1,1000).mean(1))"
   ]
  },
  {
   "cell_type": "code",
   "execution_count": 112,
   "id": "d1cc783e",
   "metadata": {},
   "outputs": [],
   "source": [
    "for layer in model.layers:\n",
    "  layer.training = False"
   ]
  },
  {
   "cell_type": "code",
   "execution_count": 113,
   "id": "a885e4cd",
   "metadata": {},
   "outputs": [
    {
     "name": "stdout",
     "output_type": "stream",
     "text": [
      "train 1.8680213689804077\n",
      "val 2.285468816757202\n"
     ]
    }
   ],
   "source": [
    "# evaluate the loss\n",
    "@torch.no_grad() # this decorator disables gradient tracking inside pytorch\n",
    "def split_loss(split):\n",
    "  x,y = {\n",
    "    'train': (X_tr, Y_tr),\n",
    "    'val': (X_val, Y_val),\n",
    "    'test': (X_test, Y_test),\n",
    "  }[split]\n",
    "  logits = model(x)\n",
    "  loss = F.cross_entropy(logits, y)\n",
    "  print(split, loss.item())\n",
    "\n",
    "split_loss('train')\n",
    "split_loss('val')\n"
   ]
  },
  {
   "cell_type": "code",
   "execution_count": null,
   "id": "e17d1f06",
   "metadata": {},
   "outputs": [],
   "source": [
    "# train 1.8227760791778564\n",
    "# val 2.2209994792938232\n",
    "\n",
    "# train 1.7881035804748535\n",
    "# val 2.225564479827881\n"
   ]
  },
  {
   "cell_type": "code",
   "execution_count": 115,
   "id": "508f6d97",
   "metadata": {},
   "outputs": [
    {
     "name": "stdout",
     "output_type": "stream",
     "text": [
      "irzal.\n",
      "caelana.\n",
      "zavi.\n",
      "anami.\n",
      "zenon.\n",
      "kynzae.\n",
      "leancarlie.\n",
      "aamah.\n",
      "jilier.\n",
      "morina.\n",
      "khyri.\n",
      "kinsly.\n",
      "dontheo.\n",
      "anayem.\n",
      "darmel.\n",
      "zavi.\n",
      "nayo.\n",
      "talinora.\n",
      "leonald.\n",
      "nichulae.\n",
      "maliar.\n",
      "serenithy.\n",
      "jordis.\n",
      "jabed.\n",
      "sahrya.\n",
      "cintkeni.\n",
      "ahnia.\n",
      "sheam.\n",
      "bregan.\n",
      "yarelette.\n",
      "mariah.\n",
      "poorneuna.\n",
      "anisto.\n",
      "tatca.\n",
      "athaya.\n",
      "livaydrian.\n",
      "reestan.\n",
      "nickola.\n",
      "weorga.\n",
      "canan.\n"
     ]
    }
   ],
   "source": [
    "# sample from the model\n",
    "block_size = 8\n",
    "for _ in range(40):\n",
    "    \n",
    "    out = []\n",
    "    context = [0] * block_size# initialize with all ...\n",
    "    while True:\n",
    "      # forward pass the neural net\n",
    "      logits = model(torch.tensor([context]))\n",
    "      probs = F.softmax(logits, dim=1)\n",
    "      # sample from the distribution\n",
    "      ix = torch.multinomial(probs, num_samples=1).item()\n",
    "      # shift the context window and track the samples\n",
    "      context = context[1:] + [ix]\n",
    "      out.append(ix)\n",
    "      # if we sample the special '.' token, break\n",
    "      if ix == 0:\n",
    "        break\n",
    "    \n",
    "    print(''.join(itos[i] for i in out)) # decode and print the generated word"
   ]
  },
  {
   "cell_type": "code",
   "execution_count": null,
   "id": "7ac639cb",
   "metadata": {},
   "outputs": [],
   "source": []
  },
  {
   "cell_type": "code",
   "execution_count": null,
   "id": "91163b46",
   "metadata": {},
   "outputs": [],
   "source": []
  }
 ],
 "metadata": {
  "kernelspec": {
   "display_name": "ml2-env",
   "language": "python",
   "name": "python3"
  },
  "language_info": {
   "codemirror_mode": {
    "name": "ipython",
    "version": 3
   },
   "file_extension": ".py",
   "mimetype": "text/x-python",
   "name": "python",
   "nbconvert_exporter": "python",
   "pygments_lexer": "ipython3",
   "version": "3.10.18"
  }
 },
 "nbformat": 4,
 "nbformat_minor": 5
}
